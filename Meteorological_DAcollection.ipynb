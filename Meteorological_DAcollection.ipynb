{
 "cells": [
  {
   "cell_type": "markdown",
   "id": "908b9cb1",
   "metadata": {},
   "source": [
    "# 1. Data Collection"
   ]
  },
  {
   "cell_type": "markdown",
   "id": "98bdada0",
   "metadata": {},
   "source": [
    "Approximate distances of 12 German cities from the North Sea and the Baltic Sea:\n",
    "\n",
    "#### Berlin\n",
    "lat=52.52&lon=13.405\\\n",
    "North Sea: about 350 kilometers\\\n",
    "Baltic Sea: about 200 kilometers\n",
    "#### Hannover\n",
    "lat=52.375&lon=9.732\\\n",
    "North Sea: about 150 kilometers\\\n",
    "Baltic Sea: about 300 kilometers\n",
    "#### Düsseldorf\n",
    "lat=51.227&lon=6.773\\\n",
    "North Sea: about 40 kilometers\\\n",
    "Baltic Sea: about 350 kilometers\n",
    "#### Stuttgart\n",
    "lat=48.775&lon=9.182\\\n",
    "North Sea: about 400 kilometers\\\n",
    "Baltic Sea: about 600 kilometers\n",
    "#### Nürnberg\n",
    "lat=49.452&lon=11.076\\\n",
    "North Sea: about 350 kilometers\\\n",
    "Baltic Sea: about 500 kilometers\n",
    "#### Würzburg\n",
    "lat=49.791&lon=9.954\\\n",
    "North Sea: about 400 kilometers\\\n",
    "Baltic Sea: about 550 kilometers\n",
    "#### Kaiserslautern\n",
    "lat=49.444&lon=7.768\\\n",
    "North Sea: about 300 kilometers\\\n",
    "Baltic Sea: about 450 kilometers\n",
    "#### Osnabrück\n",
    "lat=52.279&lon=8.047\\\n",
    "North Sea: about 80 kilometers\\\n",
    "Baltic Sea: about 350 kilometers\n",
    "#### Essen\n",
    "lat=51.456&lon=7.012\\\n",
    "North Sea: about 60 kilometers\\\n",
    "Baltic Sea: about 350 kilometers\n",
    "#### Leverkusen\n",
    "lat=51.033&lon=6.983\\\n",
    "North Sea: about 70 kilometers\\\n",
    "Baltic Sea: about 360 kilometers\n",
    "#### Bochum\n",
    "lat=51.481&lon=7.216\\\n",
    "North Sea: about 80 kilometers\\\n",
    "Baltic Sea: about 350 kilometers\n",
    "#### Gelsenkirchen\n",
    "lat=51.517&lon=7.085\\\n",
    "North Sea: about 90 kilometers\\\n",
    "Baltic Sea: about 360 kilometers"
   ]
  },
  {
   "cell_type": "code",
   "execution_count": 1,
   "id": "f426b925",
   "metadata": {},
   "outputs": [],
   "source": [
    "import pandas as pd\n",
    "import datetime\n",
    "import time\n",
    "import json\n",
    "import requests"
   ]
  },
  {
   "cell_type": "code",
   "execution_count": 2,
   "id": "322802d4",
   "metadata": {},
   "outputs": [],
   "source": [
    "# Initialize information for the 12 cities\n",
    "cities_info = {\n",
    "    \"Berlin\": {\"lat\": 52.52, \"lon\": 13.405, \"distN\": 350, \"distB\": 200},\n",
    "    \"Hannover\": {\"lat\": 52.375, \"lon\": 9.732, \"distN\": 150, \"distB\": 300},\n",
    "    \"Düsseldorf\": {\"lat\": 51.227, \"lon\": 6.773, \"distN\": 40, \"distB\": 350},\n",
    "    \"Stuttgart\": {\"lat\": 48.775, \"lon\": 9.182, \"distN\": 400, \"distB\": 600},\n",
    "    \"Nürnberg\": {\"lat\": 49.452, \"lon\": 11.076, \"distN\": 350, \"distB\": 500},\n",
    "    \"Würzburg\": {\"lat\": 49.791, \"lon\": 9.954, \"distN\": 400, \"distB\": 550},\n",
    "    \"Kaiserslautern\": {\"lat\": 49.444, \"lon\": 7.768, \"distN\": 300, \"distB\": 450},\n",
    "    \"Osnabrück\": {\"lat\": 52.279, \"lon\": 8.047, \"distN\": 80, \"distB\": 350},\n",
    "    \"Essen\": {\"lat\": 51.456, \"lon\": 7.012, \"distN\": 60, \"distB\": 350},\n",
    "    \"Leverkusen\": {\"lat\": 51.033, \"lon\": 6.983, \"distN\": 70, \"distB\": 360},\n",
    "    \"Bochum\": {\"lat\": 51.481, \"lon\": 7.216, \"distN\": 80, \"distB\": 350},\n",
    "    \"Gelsenkirchen\": {\"lat\": 51.517, \"lon\": 7.085, \"distN\": 90, \"distB\": 360}\n",
    "}"
   ]
  },
  {
   "cell_type": "code",
   "execution_count": 3,
   "id": "c997931b",
   "metadata": {},
   "outputs": [],
   "source": [
    "# Define function to fetch and process weather data\n",
    "def get_weather_data(city_name, city_info):\n",
    "    url = \"https://api.openweathermap.org/data/2.5/weather?lat=52.52&lon=13.405&appid=a8ec937ee7eb519f4d06e0699ef1154f\"\n",
    "    response = requests.get(url)\n",
    "    city_data = response.json()\n",
    "    \n",
    "    data = {\n",
    "        \"temp\": city_data[\"main\"][\"temp\"] - 273.15,\n",
    "        \"humidity\": city_data[\"main\"][\"humidity\"],\n",
    "        \"pressure\": city_data[\"main\"][\"pressure\"],\n",
    "        \"description\": city_data[\"weather\"][0][\"description\"],\n",
    "        \"dt\": datetime.datetime.fromtimestamp(city_data[\"dt\"]),\n",
    "        \"wind_speed\": city_data[\"wind\"][\"speed\"],\n",
    "        \"wind_deg\": city_data[\"wind\"][\"deg\"],\n",
    "        \"distN\": city_info[\"distN\"],\n",
    "        \"distB\": city_info[\"distB\"]\n",
    "    }\n",
    "    return data"
   ]
  },
  {
   "cell_type": "code",
   "execution_count": 4,
   "id": "e7713089",
   "metadata": {},
   "outputs": [
    {
     "name": "stdout",
     "output_type": "stream",
     "text": [
      "Waiting 17 seconds until the next full hour to start data collection...\n"
     ]
    }
   ],
   "source": [
    "# Calculate time until the next full hour\n",
    "now = datetime.datetime.now()\n",
    "next_hour = (now + datetime.timedelta(hours=1)).replace(minute=0, second=0, microsecond=0)\n",
    "seconds_until_next_hour = (next_hour - now).total_seconds()\n",
    "print(f\"Waiting {seconds_until_next_hour:.0f} seconds until the next full hour to start data collection...\")\n",
    "time.sleep(seconds_until_next_hour)"
   ]
  },
  {
   "cell_type": "code",
   "execution_count": null,
   "id": "040c0cbd",
   "metadata": {},
   "outputs": [],
   "source": [
    "# Start collecting data on every hour and half-hour\n",
    "for city_name, city_info in cities_info.items():\n",
    "    city_weather_data = []\n",
    "    for _ in range(48):  # Collect data every 30 minutes, for 24 hours\n",
    "        weather_data = get_weather_data(city_name, city_info)\n",
    "        city_weather_data.append(weather_data)\n",
    "        \n",
    "        # Pause for 30 minutes (1800 seconds)\n",
    "        time.sleep(1800)\n",
    "    \n",
    "    # Create DataFrame and save as a CSV file\n",
    "    df_city = pd.DataFrame(city_weather_data)\n",
    "    df_city.to_csv(f\"{city_name}.csv\", index=False)"
   ]
  },
  {
   "cell_type": "code",
   "execution_count": null,
   "id": "f607f779",
   "metadata": {},
   "outputs": [],
   "source": []
  }
 ],
 "metadata": {
  "kernelspec": {
   "display_name": "myenv",
   "language": "python",
   "name": "myenv"
  },
  "language_info": {
   "codemirror_mode": {
    "name": "ipython",
    "version": 3
   },
   "file_extension": ".py",
   "mimetype": "text/x-python",
   "name": "python",
   "nbconvert_exporter": "python",
   "pygments_lexer": "ipython3",
   "version": "3.8.19"
  }
 },
 "nbformat": 4,
 "nbformat_minor": 5
}
